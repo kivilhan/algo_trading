{
 "cells": [
  {
   "cell_type": "code",
   "execution_count": 1,
   "metadata": {},
   "outputs": [
    {
     "name": "stderr",
     "output_type": "stream",
     "text": [
      "[*********************100%***********************]  101 of 101 completed\n"
     ]
    }
   ],
   "source": [
    "import yfinance as yf\n",
    "import numpy as np\n",
    "import pandas as pd\n",
    "import constants\n",
    "\n",
    "# Get symbols from constants file\n",
    "lines = constants.sa_str.splitlines()\n",
    "symbols = [line.split(\"\\t\")[1] for line in lines][:100]\n",
    "\n",
    "# Download data\n",
    "df = yf.download(symbols + [\"SPY\"], period=\"1y\", interval=\"1h\", ignore_tz=True)\n"
   ]
  },
  {
   "cell_type": "code",
   "execution_count": 15,
   "metadata": {},
   "outputs": [
    {
     "data": {
      "text/plain": [
       "(1747, 101)"
      ]
     },
     "execution_count": 15,
     "metadata": {},
     "output_type": "execute_result"
    }
   ],
   "source": [
    "close = df[\"Close\"]\n",
    "# Check NaN ratios\n",
    "for sym in symbols:\n",
    "    sym_close = df[\"Close\"][sym].to_numpy()\n",
    "    nan_ratio = np.isnan(sym_close).sum() / len(sym_close)\n",
    "    if nan_ratio > 0.1:\n",
    "        print(f\"{sym} nan ratio: {nan_ratio:.4f} - dropping\")\n",
    "        close = close.drop(sym, axis=1)\n",
    "\n",
    "# Convert to np array\n",
    "close_np = close.to_numpy()\n",
    "close_np.shape\n"
   ]
  },
  {
   "cell_type": "code",
   "execution_count": 43,
   "metadata": {},
   "outputs": [],
   "source": [
    "x, y = [], []\n",
    "for i in range(len(df.index)):\n",
    "    if len(df.index) - i > 6:\n",
    "        c0 = df.index[i].hour == 9\n",
    "        c1 = df.index[i+3].hour == 12\n",
    "        c2 = df.index[i+6].hour == 15\n",
    "        if c0 and c1 and c2:\n",
    "            x.append(close_np[i+3] / close_np[i] - 1)\n",
    "            y.append(close_np[i+6] / close_np[i+3] - 1)\n",
    "\n",
    "x_np, y_np = np.stack(x), np.stack(y)\n",
    "x_std = (x_np - x_np.mean()) / x_np.std() / 2\n",
    "y_std = (y_np - y_np.mean()) / y_np.std() / 2"
   ]
  },
  {
   "cell_type": "code",
   "execution_count": 44,
   "metadata": {},
   "outputs": [
    {
     "data": {
      "text/plain": [
       "np.float64(0.5)"
      ]
     },
     "execution_count": 44,
     "metadata": {},
     "output_type": "execute_result"
    }
   ],
   "source": [
    "x_std.std()"
   ]
  },
  {
   "cell_type": "code",
   "execution_count": 54,
   "metadata": {},
   "outputs": [
    {
     "name": "stdout",
     "output_type": "stream",
     "text": [
      "spirit = 150\n"
     ]
    }
   ],
   "source": []
  },
  {
   "cell_type": "code",
   "execution_count": null,
   "metadata": {},
   "outputs": [],
   "source": [
    "days = []\n",
    "for i in range(len(df.index)):\n",
    "    if df.index[i].hour == 9 and len(df.index) - i > 6:\n",
    "        day_data = []\n",
    "        for sym in symbols:\n",
    "            vol_0 = df[\"Volume\"][sym][df.index[i]]\n",
    "\n",
    "            vol_1 = (vol_0 + \n",
    "                df[\"Volume\"][sym][df.index[i + 1]] +\n",
    "                df[\"Volume\"][sym][df.index[i + 2]] + \n",
    "                df[\"Volume\"][sym][df.index[i + 3]])\n",
    "            \n",
    "            vol_2 = (vol_1 + \n",
    "                df[\"Volume\"][sym][df.index[i + 4]] +\n",
    "                df[\"Volume\"][sym][df.index[i + 5]] + \n",
    "                df[\"Volume\"][sym][df.index[i + 6]])\n",
    "            \n",
    "            sym_data = [\n",
    "                df[\"Close\"][sym][df.index[i]],\n",
    "                df[\"Close\"][sym][df.index[i + 3]],\n",
    "                df[\"Close\"][sym][df.index[i + 6]],\n",
    "                vol_0,\n",
    "                vol_1,\n",
    "                vol_2,\n",
    "            ]\n",
    "\n",
    "            day_data.append(sym_data)\n",
    "\n",
    "        days.append(day_data)\n",
    "# days_np = np.concatenate(days)"
   ]
  }
 ],
 "metadata": {
  "kernelspec": {
   "display_name": "autoreq",
   "language": "python",
   "name": "python3"
  },
  "language_info": {
   "codemirror_mode": {
    "name": "ipython",
    "version": 3
   },
   "file_extension": ".py",
   "mimetype": "text/x-python",
   "name": "python",
   "nbconvert_exporter": "python",
   "pygments_lexer": "ipython3",
   "version": "3.12.5"
  }
 },
 "nbformat": 4,
 "nbformat_minor": 2
}
