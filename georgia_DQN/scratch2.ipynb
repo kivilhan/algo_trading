{
 "cells": [
  {
   "cell_type": "code",
   "execution_count": 4,
   "metadata": {},
   "outputs": [],
   "source": [
    "# import torch\n",
    "import numpy as np\n",
    "import data_pipes\n",
    "\n",
    "df_path = \"processed_aapl_data.csv\"\n",
    "data = data_pipes.process_df(df_path)"
   ]
  },
  {
   "cell_type": "code",
   "execution_count": 26,
   "metadata": {},
   "outputs": [],
   "source": [
    "from torch import nn\n",
    "\n",
    "class georgia_0(nn.Module):\n",
    "    def __init__(self, win_past=20, features=19, dropout_rate=0.33):\n",
    "        super().__init__()\n",
    "        self.flat0 = nn.Flatten()\n",
    "\n",
    "        self.hidden0 = nn.Linear(features*win_past, 128)\n",
    "        self.act0 = nn.ReLU()\n",
    "        self.dropout0 = nn.Dropout(dropout_rate)\n",
    "        \n",
    "        self.hidden1 = nn.Linear(128, 128)\n",
    "        self.act1 = nn.ReLU()\n",
    "        self.dropout1 = nn.Dropout(dropout_rate)\n",
    "\n",
    "        self.hidden2 = nn.Linear(128, 128)\n",
    "        self.act2 = nn.ReLU()\n",
    "        self.dropout2 = nn.Dropout(dropout_rate)\n",
    "\n",
    "        self.output = nn.Linear(128, 1)\n",
    "    def forward(self, x):\n",
    "        x = self.flat0(x)\n",
    "        x = self.dropout0(self.act0(self.hidden0(x)))\n",
    "        x = self.dropout1(self.act1(self.hidden1(x)))\n",
    "        x = self.dropout2(self.act2(self.hidden2(x)))\n",
    "        x = self.output(x)\n",
    "\n",
    "        return x\n"
   ]
  },
  {
   "cell_type": "code",
   "execution_count": 31,
   "metadata": {},
   "outputs": [
    {
     "name": "stdout",
     "output_type": "stream",
     "text": [
      "---------- Epoch 0 ----------\n",
      "loss: 0.1842, test loss: 0.2042\n",
      "---------- Epoch 250 ----------\n",
      "loss: 0.0513, test loss: 0.1957\n",
      "Training done in 2.71 seconds.\n"
     ]
    }
   ],
   "source": [
    "import time\n",
    "import torch\n",
    "from torch import optim\n",
    "import torch_ops as ops\n",
    "\n",
    "x, y = data[\"x\"], data[\"y\"]\n",
    "v_split = 0.6\n",
    "v_cutoff = int(len(x)*v_split)\n",
    "x_t= torch.tensor(x[:v_cutoff], dtype=torch.float32)\n",
    "x_v = torch.tensor(x[v_cutoff:], dtype=torch.float32)\n",
    "y_t = torch.tensor(y[:v_cutoff], dtype=torch.float32)\n",
    "y_v = torch.tensor(y[v_cutoff:], dtype=torch.float32)\n",
    "\n",
    "win_past, features = x.shape[1], x.shape[2]\n",
    "epochs, batch_size, lr, l2_decay = 250, 32, 2e-5, 1e-5\n",
    "model = georgia_0(win_past=win_past, features=features)\n",
    "loss_fn = nn.L1Loss()\n",
    "optimizer = optim.Adam(params=model.parameters(), lr=lr)\n",
    "\n",
    "loss = ops.test_loop(x_t, y_t, model, loss_fn, batch_size)\n",
    "test_loss = ops.test_loop(x_v, y_v, model, loss_fn, batch_size)\n",
    "print(\"---------- Epoch 0 ----------\")\n",
    "print(f\"loss: {loss:1.4f}, test loss: {test_loss_new:1.4f}\")\n",
    "\n",
    "t0 = time.perf_counter()\n",
    "for epoch in range(epochs):\n",
    "    loss = ops.train_loop(x_t, y_t, model, loss_fn, optimizer, batch_size)\n",
    "    test_loss_new = ops.test_loop(x_v, y_v, model, loss_fn, batch_size)\n",
    "\n",
    "    if test_loss_new < test_loss or epoch == epochs - 1:\n",
    "        print(f\"---------- Epoch {epoch + 1} ----------\")\n",
    "        print(f\"loss: {loss:1.4f}, test loss: {test_loss_new:1.4f}\")\n",
    "    \n",
    "    improvement = test_loss_new < test_loss\n",
    "    if improvement:\n",
    "        test_loss = test_loss_new\n",
    "        print(f\"Checkpoint: test loss = {test_loss:1.4f} <---------------\")\n",
    "        torch.save(model.state_dict(), r\"models/hanzo_0\")\n",
    "\n",
    "t1 = time.perf_counter()\n",
    "\n",
    "print(f\"Training done in {t1 - t0:1.2f} seconds.\")"
   ]
  },
  {
   "cell_type": "code",
   "execution_count": 22,
   "metadata": {},
   "outputs": [
    {
     "data": {
      "text/plain": [
       "dtype('float64')"
      ]
     },
     "execution_count": 22,
     "metadata": {},
     "output_type": "execute_result"
    }
   ],
   "source": [
    "x_t.dtype"
   ]
  },
  {
   "cell_type": "code",
   "execution_count": null,
   "metadata": {},
   "outputs": [],
   "source": []
  }
 ],
 "metadata": {
  "kernelspec": {
   "display_name": "autoreq312",
   "language": "python",
   "name": "python3"
  },
  "language_info": {
   "codemirror_mode": {
    "name": "ipython",
    "version": 3
   },
   "file_extension": ".py",
   "mimetype": "text/x-python",
   "name": "python",
   "nbconvert_exporter": "python",
   "pygments_lexer": "ipython3",
   "version": "3.12.8"
  }
 },
 "nbformat": 4,
 "nbformat_minor": 2
}
