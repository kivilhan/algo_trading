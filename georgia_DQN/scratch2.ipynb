{
 "cells": [
  {
   "cell_type": "code",
   "execution_count": null,
   "metadata": {},
   "outputs": [],
   "source": [
    "import pandas as pd\n",
    "\n",
    "processed_df = pd.read_csv(\"processed_aapl_data.csv\")\n",
    "\n",
    "window_norm = [\n",
    "    'Open', 'High', 'Low', 'Close', 'Adj Close','SMA_10',\n",
    "    'SMA_50', 'EMA_10', 'EMA_50'\n",
    "]\n",
    "\n",
    "hist_norm = [\n",
    "    'Volume', 'Doji', 'Engulfing', 'Hammer', 'Morning Star',\n",
    "    'Evening Star', 'RSI_14', 'MACD', 'MACD_Signal', 'MACD_Hist'\n",
    "]"
   ]
  },
  {
   "cell_type": "code",
   "execution_count": null,
   "metadata": {},
   "outputs": [],
   "source": [
    "import torch\n",
    "import numpy as np\n",
    "\n",
    "window_np = processed_df[window_norm].to_numpy()\n",
    "hist_np = processed_df[hist_norm].to_numpy()\n",
    "\n",
    "nan_max = max(np.where(np.isnan(op_np))[0])\n",
    "op_tensor = torch.tensor(op_np[nan_max + 1:], dtype=torch.float32)"
   ]
  },
  {
   "cell_type": "code",
   "execution_count": 28,
   "metadata": {},
   "outputs": [
    {
     "data": {
      "text/plain": [
       "0.12851215656510312"
      ]
     },
     "execution_count": 28,
     "metadata": {},
     "output_type": "execute_result"
    }
   ],
   "source": [
    "0.95**40"
   ]
  },
  {
   "cell_type": "code",
   "execution_count": null,
   "metadata": {},
   "outputs": [],
   "source": []
  },
  {
   "cell_type": "code",
   "execution_count": 24,
   "metadata": {},
   "outputs": [
    {
     "data": {
      "text/plain": [
       "Open            2.581900e+02\n",
       "High            2.601000e+02\n",
       "Low             2.576300e+02\n",
       "Close           2.590200e+02\n",
       "Adj Close       2.587355e+02\n",
       "Volume          6.488252e+08\n",
       "Doji            1.000000e+00\n",
       "Engulfing       1.000000e+00\n",
       "Hammer          1.000000e+00\n",
       "Morning Star    1.000000e+00\n",
       "Evening Star    0.000000e+00\n",
       "SMA_10          2.537130e+02\n",
       "SMA_50          2.405066e+02\n",
       "EMA_10          2.533789e+02\n",
       "EMA_50          2.412003e+02\n",
       "RSI_14          9.040216e+01\n",
       "MACD            8.948060e+00\n",
       "MACD_Signal     8.310411e+00\n",
       "MACD_Hist       2.379293e+00\n",
       "dtype: float64"
      ]
     },
     "execution_count": 24,
     "metadata": {},
     "output_type": "execute_result"
    }
   ],
   "source": [
    "processed_df[op_cols].max()"
   ]
  },
  {
   "cell_type": "code",
   "execution_count": 25,
   "metadata": {},
   "outputs": [
    {
     "data": {
      "text/plain": [
       "Open            2.250000e+01\n",
       "High            2.291750e+01\n",
       "Low             2.236750e+01\n",
       "Close           2.258500e+01\n",
       "Adj Close       2.067453e+01\n",
       "Volume          2.323470e+07\n",
       "Doji            0.000000e+00\n",
       "Engulfing      -1.000000e+00\n",
       "Hammer          0.000000e+00\n",
       "Morning Star    0.000000e+00\n",
       "Evening Star   -1.000000e+00\n",
       "SMA_10          2.317750e+01\n",
       "SMA_50          2.393880e+01\n",
       "EMA_10          2.335258e+01\n",
       "EMA_50          2.429961e+01\n",
       "RSI_14          2.102493e+01\n",
       "MACD           -6.673117e+00\n",
       "MACD_Signal    -5.815683e+00\n",
       "MACD_Hist      -2.872144e+00\n",
       "dtype: float64"
      ]
     },
     "execution_count": 25,
     "metadata": {},
     "output_type": "execute_result"
    }
   ],
   "source": [
    "processed_df[op_cols].min()"
   ]
  }
 ],
 "metadata": {
  "kernelspec": {
   "display_name": "autoreq312",
   "language": "python",
   "name": "python3"
  },
  "language_info": {
   "codemirror_mode": {
    "name": "ipython",
    "version": 3
   },
   "file_extension": ".py",
   "mimetype": "text/x-python",
   "name": "python",
   "nbconvert_exporter": "python",
   "pygments_lexer": "ipython3",
   "version": "3.12.8"
  }
 },
 "nbformat": 4,
 "nbformat_minor": 2
}
