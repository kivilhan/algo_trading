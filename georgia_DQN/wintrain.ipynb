{
 "cells": [
  {
   "cell_type": "code",
   "execution_count": 2,
   "metadata": {},
   "outputs": [
    {
     "name": "stdout",
     "output_type": "stream",
     "text": [
      "\n",
      "x shape: (2427, 20, 13)\n",
      "y shape: (2427, 1)     \n",
      "close shape: (2427, 1) \n",
      "\n"
     ]
    }
   ],
   "source": [
    "# import torch\n",
    "import numpy as np\n",
    "import data_pipes\n",
    "\n",
    "df_path = \"processed_aapl_data.csv\"\n",
    "data = data_pipes.process_df_3(df_path)\n",
    "x, y, close = data[\"x\"], data[\"y\"], data[\"close\"]\n",
    "y = (y - y.min()) / (y.max() - y.min())\n",
    "y = y - y.mean()\n",
    "print(f\"\"\"\n",
    "x shape: {x.shape}\n",
    "y shape: {y.shape}     \n",
    "close shape: {close.shape} \n",
    "\"\"\")"
   ]
  },
  {
   "cell_type": "code",
   "execution_count": 3,
   "metadata": {},
   "outputs": [],
   "source": [
    "import torch\n",
    "device = torch.device(\"cuda\" if torch.cuda.is_available() else \"cpu\")\n",
    "\n",
    "v_split = 0.5\n",
    "v_cutoff = int(len(x)*(1 - v_split))\n",
    "x_t = torch.tensor(x[:v_cutoff], dtype=torch.float32).to(device)\n",
    "x_v = torch.tensor(x[v_cutoff:], dtype=torch.float32).to(device)\n",
    "y_t = torch.tensor(y[:v_cutoff], dtype=torch.float32).to(device)\n",
    "y_v = torch.tensor(y[v_cutoff:], dtype=torch.float32).to(device)\n",
    "close_t = close[:v_cutoff]\n",
    "close_v = close[v_cutoff:]"
   ]
  },
  {
   "cell_type": "code",
   "execution_count": null,
   "metadata": {},
   "outputs": [],
   "source": []
  },
  {
   "cell_type": "code",
   "execution_count": null,
   "metadata": {},
   "outputs": [],
   "source": []
  }
 ],
 "metadata": {
  "kernelspec": {
   "display_name": "autoreq",
   "language": "python",
   "name": "python3"
  },
  "language_info": {
   "codemirror_mode": {
    "name": "ipython",
    "version": 3
   },
   "file_extension": ".py",
   "mimetype": "text/x-python",
   "name": "python",
   "nbconvert_exporter": "python",
   "pygments_lexer": "ipython3",
   "version": "3.12.5"
  }
 },
 "nbformat": 4,
 "nbformat_minor": 2
}
