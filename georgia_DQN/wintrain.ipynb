{
 "cells": [
  {
   "cell_type": "code",
   "execution_count": null,
   "metadata": {},
   "outputs": [],
   "source": [
    "import numpy as np\n",
    "import data_pipes\n",
    "\n",
    "df_path = \"processed_aapl_data.csv\"\n",
    "data = data_pipes.process_df_3(df_path)\n",
    "x, y, close = data[\"x\"], data[\"y\"], data[\"close\"]\n",
    "y = (y - y.min()) / (y.max() - y.min())\n",
    "y = y - y.mean()\n",
    "print(f\"\"\"\n",
    "x shape: {x.shape}\n",
    "y shape: {y.shape}     \n",
    "close shape: {close.shape} \n",
    "\"\"\")"
   ]
  },
  {
   "cell_type": "code",
   "execution_count": null,
   "metadata": {},
   "outputs": [],
   "source": [
    "import models\n",
    "\n",
    "model_config = {\n",
    "    'neurons': [128, 256, 256, 128, 32, 1],\n",
    "    'activations': ['none', 'selu', 'selu', 'selu', 'selu', 'tanh'],\n",
    "    'dropouts': [0.3, 0.3, 0.3, 0.3, 0.3, 0.3]\n",
    "}\n",
    "\n",
    "model = models.georgia_1(model_config)"
   ]
  },
  {
   "cell_type": "code",
   "execution_count": null,
   "metadata": {},
   "outputs": [],
   "source": [
    "import torch\n",
    "device = torch.device(\"cuda\" if torch.cuda.is_available() else \"cpu\")\n",
    "\n",
    "x_tns = torch.tensor(x, dtype=torch.float32).to(device)\n",
    "y_tns = torch.tensor(y, dtype=torch.float32).to(device)\n",
    "\n",
    "model"
   ]
  },
  {
   "cell_type": "code",
   "execution_count": null,
   "metadata": {},
   "outputs": [],
   "source": [
    "import torch_ops\n",
    "from torch import nn, optim\n",
    "\n",
    "loss_fn = nn.L1Loss()\n",
    "optimizer = optim.NAdam(\n",
    "    params=model.parameters(),\n",
    "    lr=1e-5,\n",
    "    # weight_decay=l2_decay\n",
    "    )\n",
    "batch_size = 32\n",
    "\n",
    "trade_win = 30\n",
    "\n",
    "for win in range(trade_win, len(x_tns)):\n",
    "    x_train = x_tns[win - trade_win:win]\n",
    "    y_train = y_tns[win - trade_win:win]\n",
    "    x_play = x_tns[win:win + 1]\n",
    "\n",
    "    loss = torch_ops.train_loop(x_train, y_train, model, loss_fn, optimizer, batch_size)\n",
    "\n",
    "    if win % 10 == 0:\n",
    "        print(f\"win: {win}, loss: {loss}\")\n",
    "\n",
    "    "
   ]
  },
  {
   "cell_type": "code",
   "execution_count": null,
   "metadata": {},
   "outputs": [],
   "source": [
    "5%5\n"
   ]
  },
  {
   "cell_type": "code",
   "execution_count": null,
   "metadata": {},
   "outputs": [],
   "source": []
  }
 ],
 "metadata": {
  "kernelspec": {
   "display_name": "autoreq",
   "language": "python",
   "name": "python3"
  },
  "language_info": {
   "codemirror_mode": {
    "name": "ipython",
    "version": 3
   },
   "file_extension": ".py",
   "mimetype": "text/x-python",
   "name": "python",
   "nbconvert_exporter": "python",
   "pygments_lexer": "ipython3",
   "version": "3.12.5"
  }
 },
 "nbformat": 4,
 "nbformat_minor": 2
}
