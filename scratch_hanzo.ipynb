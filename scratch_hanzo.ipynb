{
 "cells": [
  {
   "cell_type": "code",
   "execution_count": null,
   "metadata": {},
   "outputs": [
    {
     "name": "stderr",
     "output_type": "stream",
     "text": [
      "/var/folders/8k/fwvhflfs2xl4y4m2g9nlgfcw0000gn/T/ipykernel_58223/1041205151.py:31: RuntimeWarning: divide by zero encountered in divide\n",
      "  v_idx = v1 / v0 - 1\n"
     ]
    }
   ],
   "source": [
    "import numpy as np\n",
    "\n",
    "def hanzo_df_array(symbols, df):\n",
    "    close = df[\"Close\"]\n",
    "    vol = df[\"Volume\"]\n",
    "\n",
    "    # Check NaN ratios\n",
    "    for sym in symbols:\n",
    "        sym_close = df[\"Close\"][sym].to_numpy()\n",
    "        sym_vol = df[\"Volume\"][sym].to_numpy()\n",
    "        nan_ratio_close = np.isnan(sym_close).sum() / len(sym_close)\n",
    "        nan_ratio_vol = np.isnan(sym_vol).sum() / len(sym_vol)\n",
    "        nan_ratio = max(nan_ratio_close, nan_ratio_vol)\n",
    "        if nan_ratio > 0.1:\n",
    "            print(f\"{sym} nan ratio: {nan_ratio:.4f} - dropping\")\n",
    "            close = close.drop(sym, axis=1)\n",
    "            vol = vol.drop(sym, axis=1)\n",
    "\n",
    "    # Convert to np array\n",
    "    close_np, vol_np = close.to_numpy(), vol.to_numpy()\n",
    "    hist, future = 35, 7\n",
    "    x, y = [], []\n",
    "\n",
    "    for idx in range(hist+1, len(close_np)-future):\n",
    "        p0 = close_np[idx - hist - 1:idx - 1]\n",
    "        p1 = close_np[idx - hist:idx]\n",
    "        p_idx = p1 / p0 - 1\n",
    "\n",
    "        v0 = vol_np[idx - hist - 1:idx - 1]\n",
    "        v1 = vol_np[idx - hist:idx]\n",
    "        v_idx = v1 / v0 - 1\n",
    "\n",
    "        x_idx = np.stack((p_idx.T, v_idx.T), axis=2)\n",
    "\n",
    "        y0 = close_np[idx]\n",
    "        y1 = close_np[idx + future]\n",
    "        y_idx = np.array(([y1 / y0 - 1])).T\n",
    "\n",
    "        if not np.any(np.isnan(x_idx)) and not np.any(np.isnan(y_idx)):\n",
    "            x.append(x_idx)\n",
    "            y.append(y_idx)\n",
    "\n",
    "    x_np = np.stack(x, axis=0)\n",
    "    y_np = np.stack(y, axis=0)\n",
    "\n",
    "    return { \"x\": x_np, \"y\": y_np }"
   ]
  },
  {
   "cell_type": "code",
   "execution_count": 44,
   "metadata": {},
   "outputs": [
    {
     "data": {
      "text/plain": [
       "(1628, 101, 35, 2)"
      ]
     },
     "execution_count": 44,
     "metadata": {},
     "output_type": "execute_result"
    }
   ],
   "source": [
    "x_np.shape"
   ]
  },
  {
   "cell_type": "code",
   "execution_count": null,
   "metadata": {},
   "outputs": [],
   "source": []
  },
  {
   "cell_type": "code",
   "execution_count": 30,
   "metadata": {},
   "outputs": [
    {
     "data": {
      "text/plain": [
       "(101, 1)"
      ]
     },
     "execution_count": 30,
     "metadata": {},
     "output_type": "execute_result"
    }
   ],
   "source": [
    "idx = hist + 1\n",
    "p0 = close_np[idx - hist - 1:idx - 1]\n",
    "p1 = close_np[idx - hist:idx]\n",
    "p_idx = p1 / p0 - 1\n",
    "\n",
    "v0 = vol_np[idx - hist - 1:idx - 1]\n",
    "v1 = vol_np[idx - hist:idx]\n",
    "v_idx = v1 / v0 - 1\n",
    "\n",
    "y0 = close_np[idx]\n",
    "y1 = close_np[idx + future]\n",
    "y_idx = np.array(([y1 / y0 - 1])).T\n",
    "y_idx.shape\n",
    "\n"
   ]
  },
  {
   "cell_type": "code",
   "execution_count": 9,
   "metadata": {},
   "outputs": [
    {
     "data": {
      "text/plain": [
       "1705"
      ]
     },
     "execution_count": 9,
     "metadata": {},
     "output_type": "execute_result"
    }
   ],
   "source": [
    "len(x)"
   ]
  },
  {
   "cell_type": "code",
   "execution_count": 6,
   "metadata": {},
   "outputs": [
    {
     "data": {
      "text/plain": [
       "array([[[181.88000488, 175.58500671, 112.98000336, ...,  49.125     ,\n",
       "          56.0233345 , 102.30500031],\n",
       "        [181.99000549, 175.52000427, 112.73999786, ...,  48.90999985,\n",
       "          56.18666458, 102.52999878],\n",
       "        [182.0249939 , 175.13000488, 113.30999756, ...,  51.29000092,\n",
       "          56.22333145, 103.07499695],\n",
       "        ...,\n",
       "        [184.94000244, 177.19999695, 119.12999725, ...,  53.65000153,\n",
       "          58.42256546, 105.31999969],\n",
       "        [184.55999756, 176.76100159, 118.86000061, ...,  53.60499954,\n",
       "          58.43666458, 104.95999908],\n",
       "        [184.36999512, 176.72999573, 119.        , ...,  53.375     ,\n",
       "          58.4600029 , 104.75      ]],\n",
       "\n",
       "       [[181.99000549, 175.52000427, 112.73999786, ...,  48.90999985,\n",
       "          56.18666458, 102.52999878],\n",
       "        [182.0249939 , 175.13000488, 113.30999756, ...,  51.29000092,\n",
       "          56.22333145, 103.07499695],\n",
       "        [182.05000305, 175.57000732, 113.86000061, ...,  51.75      ,\n",
       "          56.41666794, 103.25      ],\n",
       "        ...,\n",
       "        [184.55999756, 176.76100159, 118.86000061, ...,  53.60499954,\n",
       "          58.43666458, 104.95999908],\n",
       "        [184.36999512, 176.72999573, 119.        , ...,  53.375     ,\n",
       "          58.4600029 , 104.75      ],\n",
       "        [183.30000305, 178.41349792, 119.96800232, ...,  53.72249985,\n",
       "          59.19940186, 103.30999756]],\n",
       "\n",
       "       [[182.0249939 , 175.13000488, 113.30999756, ...,  51.29000092,\n",
       "          56.22333145, 103.07499695],\n",
       "        [182.05000305, 175.57000732, 113.86000061, ...,  51.75      ,\n",
       "          56.41666794, 103.25      ],\n",
       "        [181.97889709, 175.96000671, 114.19000244, ...,  52.11000061,\n",
       "          56.45333481, 103.54499817],\n",
       "        ...,\n",
       "        [184.36999512, 176.72999573, 119.        , ...,  53.375     ,\n",
       "          58.4600029 , 104.75      ],\n",
       "        [183.30000305, 178.41349792, 119.96800232, ...,  53.72249985,\n",
       "          59.19940186, 103.30999756],\n",
       "        [183.05900574, 177.75      , 119.58499908, ...,  53.78499985,\n",
       "          58.78333664, 103.80000305]],\n",
       "\n",
       "       ...,\n",
       "\n",
       "       [[232.86999512, 193.87330627, 129.16999817, ...,  81.125     ,\n",
       "         102.47499847, 108.30000305],\n",
       "        [232.27999878, 193.49000549, 128.86999512, ...,  81.30000305,\n",
       "         102.55000305, 108.25      ],\n",
       "        [233.22000122, 192.91999817, 128.21000671, ...,  81.43000031,\n",
       "         102.80999756, 108.43000031],\n",
       "        ...,\n",
       "        [240.47999573, 193.38999939, 131.97000122, ...,  78.95999908,\n",
       "         103.76999664, 108.07009888],\n",
       "        [240.34500122, 193.33000183, 131.86360168, ...,  78.97499847,\n",
       "         104.04000092, 107.86499786],\n",
       "        [241.02999878, 192.95500183, 131.36000061, ...,  78.94999695,\n",
       "         104.09500122, 108.08999634]],\n",
       "\n",
       "       [[232.27999878, 193.49000549, 128.86999512, ...,  81.30000305,\n",
       "         102.55000305, 108.25      ],\n",
       "        [233.22000122, 192.91999817, 128.21000671, ...,  81.43000031,\n",
       "         102.80999756, 108.43000031],\n",
       "        [230.38999939, 192.8500061 , 128.91000366, ...,  80.68000031,\n",
       "         102.33999634, 109.41000366],\n",
       "        ...,\n",
       "        [240.34500122, 193.33000183, 131.86360168, ...,  78.97499847,\n",
       "         104.04000092, 107.86499786],\n",
       "        [241.02999878, 192.95500183, 131.36000061, ...,  78.94999695,\n",
       "         104.09500122, 108.08999634],\n",
       "        [241.76989746, 193.69000244, 131.77560425, ...,  78.86000061,\n",
       "         104.85030365, 108.19499969]],\n",
       "\n",
       "       [[233.22000122, 192.91999817, 128.21000671, ...,  81.43000031,\n",
       "         102.80999756, 108.43000031],\n",
       "        [230.38999939, 192.8500061 , 128.91000366, ...,  80.68000031,\n",
       "         102.33999634, 109.41000366],\n",
       "        [229.05499268, 191.61000061, 128.68499756, ...,  80.61000061,\n",
       "         101.91000366, 109.06999969],\n",
       "        ...,\n",
       "        [241.02999878, 192.95500183, 131.36000061, ...,  78.94999695,\n",
       "         104.09500122, 108.08999634],\n",
       "        [241.76989746, 193.69000244, 131.77560425, ...,  78.86000061,\n",
       "         104.85030365, 108.19499969],\n",
       "        [241.54499817, 193.88999939, 131.88999939, ...,  79.04499817,\n",
       "         104.93000031, 108.09500122]]])"
      ]
     },
     "execution_count": 6,
     "metadata": {},
     "output_type": "execute_result"
    }
   ],
   "source": [
    "hanzo_data = hanzo_df_array(symbols, df)\n",
    "hanzo_data[\"x\"][:, :, :, 0]"
   ]
  },
  {
   "cell_type": "code",
   "execution_count": 2,
   "metadata": {},
   "outputs": [
    {
     "name": "stderr",
     "output_type": "stream",
     "text": [
      "[*********************100%***********************]  101 of 101 completed\n"
     ]
    }
   ],
   "source": [
    "import constants\n",
    "import yfinance as yf\n",
    "\n",
    "# Get symbols from constants file\n",
    "lines = constants.sa_str.splitlines()\n",
    "symbols = [line.split(\"\\t\")[1] for line in lines][:100]\n",
    "\n",
    "# Download data\n",
    "df = yf.download(symbols + [\"SPY\"], period=\"1y\", interval=\"1h\", ignore_tz=True)"
   ]
  },
  {
   "cell_type": "code",
   "execution_count": null,
   "metadata": {},
   "outputs": [],
   "source": []
  }
 ],
 "metadata": {
  "kernelspec": {
   "display_name": "autoreq",
   "language": "python",
   "name": "python3"
  },
  "language_info": {
   "codemirror_mode": {
    "name": "ipython",
    "version": 3
   },
   "file_extension": ".py",
   "mimetype": "text/x-python",
   "name": "python",
   "nbconvert_exporter": "python",
   "pygments_lexer": "ipython3",
   "version": "3.12.5"
  }
 },
 "nbformat": 4,
 "nbformat_minor": 2
}
